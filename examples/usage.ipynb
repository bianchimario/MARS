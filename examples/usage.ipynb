{
 "cells": [
  {
   "cell_type": "code",
   "execution_count": null,
   "metadata": {},
   "outputs": [],
   "source": [
    "pip install git+https://github.com/bianchimario/MARS"
   ]
  },
  {
   "cell_type": "code",
   "execution_count": 1,
   "metadata": {},
   "outputs": [],
   "source": [
    "from MARS import MARS\n",
    "from downtime import load_dataset\n",
    "import lightgbm as lgb\n",
    "from sklearn.metrics import classification_report\n",
    "from datatime.conversion import awkward_to_flat\n",
    "import awkward as ak"
   ]
  },
  {
   "cell_type": "code",
   "execution_count": 2,
   "metadata": {},
   "outputs": [
    {
     "name": "stdout",
     "output_type": "stream",
     "text": [
      "X_train: (108, 6, 1197)\n",
      "X_test: (72, 6, 1197)\n",
      "y_train: (108,)\n",
      "y_test: (72,)\n",
      "Metadata:\n",
      "{'labels': {'0': '1.0',\n",
      "            '1': '10.0',\n",
      "            '10': '8.0',\n",
      "            '11': '9.0',\n",
      "            '2': '11.0',\n",
      "            '3': '12.0',\n",
      "            '4': '2.0',\n",
      "            '5': '3.0',\n",
      "            '6': '4.0',\n",
      "            '7': '5.0',\n",
      "            '8': '6.0',\n",
      "            '9': '7.0'},\n",
      " 'name': 'Cricket',\n",
      " 'task': 'classification'}\n"
     ]
    }
   ],
   "source": [
    "# Importing dataset\n",
    "\n",
    "d = load_dataset('Cricket')\n",
    "X_train = d.X_train\n",
    "X_test = d.X_test\n",
    "y_train = d.y_train\n",
    "y_test = d.y_test\n",
    "print(d)"
   ]
  },
  {
   "cell_type": "markdown",
   "metadata": {},
   "source": [
    "# MARS"
   ]
  },
  {
   "cell_type": "code",
   "execution_count": 8,
   "metadata": {},
   "outputs": [],
   "source": [
    "# Extracting shapelets\n",
    "mars = MARS(num_shapelets=100, \n",
    "            max_len=50, \n",
    "            min_len=10, \n",
    "            seed=42, \n",
    "            shapelet_indexes=True, # to save the index of the time series from which the shapelet is extracted\n",
    "            indexes=True, # to save the index of the best match between shaplet and time series\n",
    "            n_jobs=-1 \n",
    "            )"
   ]
  },
  {
   "cell_type": "code",
   "execution_count": null,
   "metadata": {},
   "outputs": [],
   "source": [
    "# Fitting MARS\n",
    "mars.fit(X_train)"
   ]
  },
  {
   "cell_type": "code",
   "execution_count": 10,
   "metadata": {},
   "outputs": [],
   "source": [
    "# Calculating distances (i.e. Shapelet Transform)\n",
    "X_train_transformed, train_idxs = mars.transform(X_train)\n",
    "X_test_transformed, test_idxs = mars.transform(X_test)\n",
    "\n",
    "# If indexes=False:\n",
    "# X_train_transformed = mars.transform(X_train)\n",
    "# X_test_transformed = mars.transform(X_test)"
   ]
  },
  {
   "cell_type": "markdown",
   "metadata": {},
   "source": [
    "# Classification"
   ]
  },
  {
   "cell_type": "code",
   "execution_count": null,
   "metadata": {},
   "outputs": [],
   "source": [
    "# Applying classifier of choice\n",
    "clf = lgb.LGBMClassifier()\n",
    "clf.fit(X_train_transformed, y_train)"
   ]
  },
  {
   "cell_type": "code",
   "execution_count": 13,
   "metadata": {},
   "outputs": [
    {
     "name": "stdout",
     "output_type": "stream",
     "text": [
      "              precision    recall  f1-score   support\n",
      "\n",
      "           0       0.83      0.83      0.83         6\n",
      "           1       1.00      1.00      1.00         6\n",
      "           2       0.86      1.00      0.92         6\n",
      "           3       1.00      0.50      0.67         6\n",
      "           4       1.00      1.00      1.00         6\n",
      "           5       1.00      1.00      1.00         6\n",
      "           6       1.00      1.00      1.00         6\n",
      "           7       1.00      1.00      1.00         6\n",
      "           8       0.86      1.00      0.92         6\n",
      "           9       1.00      1.00      1.00         6\n",
      "          10       1.00      1.00      1.00         6\n",
      "          11       0.86      1.00      0.92         6\n",
      "\n",
      "    accuracy                           0.94        72\n",
      "   macro avg       0.95      0.94      0.94        72\n",
      "weighted avg       0.95      0.94      0.94        72\n",
      "\n"
     ]
    }
   ],
   "source": [
    "# Generating predictions\n",
    "y_pred_test = clf.predict(X_test_transformed)\n",
    "\n",
    "print(classification_report(y_test, y_pred_test))"
   ]
  }
 ],
 "metadata": {
  "kernelspec": {
   "display_name": "generali2023",
   "language": "python",
   "name": "python3"
  },
  "language_info": {
   "codemirror_mode": {
    "name": "ipython",
    "version": 3
   },
   "file_extension": ".py",
   "mimetype": "text/x-python",
   "name": "python",
   "nbconvert_exporter": "python",
   "pygments_lexer": "ipython3",
   "version": "3.10.11"
  }
 },
 "nbformat": 4,
 "nbformat_minor": 2
}
